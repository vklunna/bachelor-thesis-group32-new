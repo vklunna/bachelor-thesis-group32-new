{
 "cells": [
  {
   "cell_type": "code",
   "execution_count": 7,
   "id": "70c3ccab-0e10-4876-8619-0fe8b8ce048e",
   "metadata": {},
   "outputs": [
    {
     "name": "stdout",
     "output_type": "stream",
     "text": [
      "🔍 Missing PDFs:\n",
      "- nan\n",
      "\n",
      "✅ Checked 101 total. Missing: 1\n"
     ]
    }
   ],
   "source": [
    "import pandas as pd\n",
    "from pathlib import Path\n",
    "\n",
    "# Set base path to project root (folder that contains both /0_data and /1_code)\n",
    "REPO_ROOT = Path().resolve().parent  # assuming you're running from 1_code/\n",
    "data_dir = REPO_ROOT / \"0_data\"\n",
    "excel_path = data_dir / \"table_extraction_accuracy2.xlsx\"\n",
    "\n",
    "# Load Excel and clean paths\n",
    "df = pd.read_excel(excel_path, sheet_name=\"testing accuracy\", header=1)\n",
    "df[\"pdf_path\"] = df[\"pdf_path\"].astype(str).str.strip()\n",
    "\n",
    "# Check for missing PDFs in /0_data\n",
    "missing = []\n",
    "for p in df[\"pdf_path\"].dropna().unique():\n",
    "    pdf_filename = Path(p).name  # just the file name\n",
    "    pdf_path = data_dir / pdf_filename\n",
    "    if not pdf_path.exists():\n",
    "        missing.append(pdf_filename)\n",
    "\n",
    "# Report\n",
    "print(\"🔍 Missing PDFs:\")\n",
    "for m in missing:\n",
    "    print(\"-\", m)\n",
    "print(f\"\\n✅ Checked {len(df['pdf_path'].unique())} total. Missing: {len(missing)}\")"
   ]
  },
  {
   "cell_type": "code",
   "execution_count": null,
   "id": "b8af893a-1e1d-4f8a-96a2-d9f2b75a1add",
   "metadata": {},
   "outputs": [],
   "source": []
  }
 ],
 "metadata": {
  "kernelspec": {
   "display_name": "Python (esg-py311)",
   "language": "python",
   "name": "esg-py311"
  },
  "language_info": {
   "codemirror_mode": {
    "name": "ipython",
    "version": 3
   },
   "file_extension": ".py",
   "mimetype": "text/x-python",
   "name": "python",
   "nbconvert_exporter": "python",
   "pygments_lexer": "ipython3",
   "version": "3.11.13"
  }
 },
 "nbformat": 4,
 "nbformat_minor": 5
}
