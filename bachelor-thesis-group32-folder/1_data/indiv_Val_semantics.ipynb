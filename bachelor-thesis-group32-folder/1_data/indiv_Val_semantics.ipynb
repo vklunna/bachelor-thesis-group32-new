{
 "cells": [
  {
   "cell_type": "markdown",
   "id": "ace09abe-a0f3-4974-817d-b21872899e60",
   "metadata": {},
   "source": [
    "Prepocess text: lowercasing, removing punctuation and stopwords (excluding may, will, etc.)"
   ]
  },
  {
   "cell_type": "code",
   "execution_count": 2,
   "id": "298e35ff-0398-48ae-a429-4fb4570a25aa",
   "metadata": {},
   "outputs": [
    {
     "name": "stdout",
     "output_type": "stream",
     "text": [
      "Collecting nltk\n",
      "  Using cached nltk-3.9.1-py3-none-any.whl.metadata (2.9 kB)\n",
      "Requirement already satisfied: click in /Users/valeriiaklynna/anaconda3/envs/esg-py311/lib/python3.11/site-packages (from nltk) (8.2.1)\n",
      "Collecting joblib (from nltk)\n",
      "  Downloading joblib-1.5.1-py3-none-any.whl.metadata (5.6 kB)\n",
      "Collecting regex>=2021.8.3 (from nltk)\n",
      "  Downloading regex-2024.11.6-cp311-cp311-macosx_10_9_x86_64.whl.metadata (40 kB)\n",
      "Requirement already satisfied: tqdm in /Users/valeriiaklynna/anaconda3/envs/esg-py311/lib/python3.11/site-packages (from nltk) (4.67.1)\n",
      "Using cached nltk-3.9.1-py3-none-any.whl (1.5 MB)\n",
      "Downloading regex-2024.11.6-cp311-cp311-macosx_10_9_x86_64.whl (287 kB)\n",
      "Downloading joblib-1.5.1-py3-none-any.whl (307 kB)\n",
      "Installing collected packages: regex, joblib, nltk\n",
      "\u001b[2K   \u001b[90m━━━━━━━━━━━━━━━━━━━━━━━━━━━━━━━━━━━━━━━━\u001b[0m \u001b[32m3/3\u001b[0m [nltk][32m2/3\u001b[0m [nltk]b]\n",
      "\u001b[1A\u001b[2KSuccessfully installed joblib-1.5.1 nltk-3.9.1 regex-2024.11.6\n",
      "Note: you may need to restart the kernel to use updated packages.\n"
     ]
    }
   ],
   "source": [
    "%pip install nltk"
   ]
  },
  {
   "cell_type": "code",
   "execution_count": 4,
   "id": "b2d3d9f3-c546-404d-905c-d01963b75303",
   "metadata": {},
   "outputs": [
    {
     "name": "stderr",
     "output_type": "stream",
     "text": [
      "[nltk_data] Downloading package punkt to\n",
      "[nltk_data]     /Users/valeriiaklynna/nltk_data...\n",
      "[nltk_data]   Package punkt is already up-to-date!\n",
      "[nltk_data] Downloading package stopwords to\n",
      "[nltk_data]     /Users/valeriiaklynna/nltk_data...\n",
      "[nltk_data]   Package stopwords is already up-to-date!\n"
     ]
    }
   ],
   "source": [
    "import re\n",
    "import nltk\n",
    "from nltk.corpus import stopwords\n",
    "from nltk.tokenize import sent_tokenize, word_tokenize\n",
    "\n",
    "# Download resources once\n",
    "nltk.download(\"punkt\")\n",
    "nltk.download(\"stopwords\")\n",
    "\n",
    "# Define the modals to preserve\n",
    "MODAL_VERBS = {\n",
    "    \"can\", \"could\", \"may\", \"might\", \"must\", \"shall\", \"should\", \"will\", \"would\"\n",
    "}\n",
    "\n",
    "# Build custom stopword list (remove modal verbs from standard stopwords)\n",
    "stop_words = set(stopwords.words(\"english\")) - MODAL_VERBS\n",
    "\n",
    "def remove_special_chars(text):\n",
    "    # Keep standard ASCII characters and typical punctuation\n",
    "    return re.sub(r\"[^\\x00-\\x7F]+\", \"\", text)\n",
    "\n",
    "def preprocess_text(raw_text):\n",
    "    \"\"\"\n",
    "    Preprocess the input text by:\n",
    "    - Removing non-ASCII characters\n",
    "    - Lowercasing\n",
    "    - Removing punctuation (but preserving sentence structure)\n",
    "    - Removing stopwords (except modal verbs)\n",
    "    Returns a list of cleaned sentences.\n",
    "    \"\"\"\n",
    "    preprocessed_sentences = []\n",
    "\n",
    "    # Clean unusual special characters\n",
    "    raw_text = remove_special_chars(raw_text)\n",
    "\n",
    "    # Sentence tokenize\n",
    "    sentences = sent_tokenize(raw_text)\n",
    "\n",
    "    for sentence in sentences:\n",
    "        # Lowercase\n",
    "        sentence = sentence.lower()\n",
    "\n",
    "        # Remove basic punctuation (keep alphanumeric and whitespace)\n",
    "        sentence = re.sub(r\"[^a-z0-9\\s]\", \"\", sentence)\n",
    "\n",
    "        # Tokenize and filter stopwords\n",
    "        words = word_tokenize(sentence)\n",
    "        filtered_words = [w for w in words if w not in stop_words]\n",
    "\n",
    "        # Reconstruct cleaned sentence\n",
    "        cleaned_sentence = \" \".join(filtered_words)\n",
    "        preprocessed_sentences.append(cleaned_sentence)\n",
    "\n",
    "    return preprocessed_sentences"
   ]
  },
  {
   "cell_type": "code",
   "execution_count": 6,
   "id": "614e311f-ded7-41fd-850c-3852ae318dca",
   "metadata": {},
   "outputs": [
    {
     "name": "stdout",
     "output_type": "stream",
     "text": [
      "✅ Preprocessed: High_Emission.txt → High_Emission_preprocessed.txt\n",
      "✅ Preprocessed: Low_Emission.txt → Low_Emission_preprocessed.txt\n"
     ]
    }
   ],
   "source": [
    "from pathlib import Path\n",
    "\n",
    "# Path setup\n",
    "repo_root = Path().resolve().parent\n",
    "input_folder = repo_root / \"2_output\" / \"extracted_text_indiv\"\n",
    "output_folder = repo_root / \"2_output\" / \"extracted_text_indiv\"\n",
    "output_folder.mkdir(parents=True, exist_ok=True)\n",
    "\n",
    "for filename in [\"High_Emission.txt\", \"Low_Emission.txt\"]:\n",
    "    input_path = input_folder / filename\n",
    "    output_path = output_folder / filename.replace(\".txt\", \"_preprocessed.txt\")\n",
    "\n",
    "    with open(input_path, \"r\", encoding=\"utf-8\") as f:\n",
    "        raw_text = f.read()\n",
    "\n",
    "    preprocessed_sentences = preprocess_text(raw_text)\n",
    "\n",
    "    with open(output_path, \"w\", encoding=\"utf-8\") as out_f:\n",
    "        out_f.write(\"\\n\".join(preprocessed_sentences))\n",
    "\n",
    "    print(f\"✅ Preprocessed: {filename} → {output_path.name}\")"
   ]
  },
  {
   "cell_type": "markdown",
   "id": "1be2029b-6cd7-4b33-b2ae-926c12bdb049",
   "metadata": {},
   "source": [
    "Hedging anf forward-looking trends"
   ]
  },
  {
   "cell_type": "code",
   "execution_count": 9,
   "id": "826e7530-fab3-4729-b790-c358424dbd2f",
   "metadata": {},
   "outputs": [],
   "source": [
    "# Hedging and forward-looking phrases\n",
    "HEDGING_PHRASES = [\n",
    "    \"may\", \"might\", \"could\", \"suggest\", \"possibly\", \"potentially\", \"assume\",\n",
    "    \"expected to\", \"anticipated\", \"planned\", \"typically\", \"generally\", \"likely\",\n",
    "    \"intend\", \"estimate\", \"believe\", \"aim\", \"tend to\"\n",
    "]\n",
    "\n",
    "# Forward-looking indicators (future promises/plans)\n",
    "FORWARD_LOOKING_PHRASES = [\n",
    "    \"will\", \"plan to\", \"aim to\", \"target\", \"commit to\", \"intend to\",\n",
    "    \"expect\", \"expected to\", \"will reduce\", \"future\", \"in the coming years\", \"forecast\", \"projection\"\n",
    "]\n",
    "\n",
    "# Stopwords minus modal verbs\n",
    "MODALS = {\"can\", \"could\", \"may\", \"might\", \"must\", \"shall\", \"should\", \"will\", \"would\"}\n",
    "stop_words = set(stopwords.words(\"english\")) - MODALS\n",
    "\n",
    "# === Functions ===\n",
    "def count_phrases(text, phrases):\n",
    "    \"\"\"\n",
    "    Count occurrences of each phrase in the text (case-insensitive).\n",
    "    \"\"\"\n",
    "    counts = Counter()\n",
    "    for phrase in phrases:\n",
    "        # Match whole words or exact phrases, ignoring case\n",
    "        pattern = re.compile(rf\"\\b{re.escape(phrase)}\\b\", flags=re.IGNORECASE)\n",
    "        matches = pattern.findall(text)\n",
    "        if matches:\n",
    "            counts[phrase] = len(matches)\n",
    "    return counts"
   ]
  },
  {
   "cell_type": "code",
   "execution_count": 12,
   "id": "61d42764-f538-4fe2-a238-071d6c2a94ad",
   "metadata": {},
   "outputs": [],
   "source": [
    "from collections import Counter\n",
    "\n",
    "high_path = Path(\"../2_output/extracted_text_indiv/High_Emission_preprocessed.txt\")\n",
    "low_path = Path(\"../2_output/extracted_text_indiv/Low_Emission_preprocessed.txt\")\n",
    "\n",
    "with open(high_path, \"r\", encoding=\"utf-8\") as f:\n",
    "    high_text = f.read()\n",
    "\n",
    "with open(low_path, \"r\", encoding=\"utf-8\") as f:\n",
    "    low_text = f.read()\n",
    "\n",
    "# Count hedging and forward-looking\n",
    "high_hedging = count_phrases(high_text, HEDGING_PHRASES)\n",
    "low_hedging = count_phrases(low_text, HEDGING_PHRASES)\n",
    "\n",
    "high_forward = count_phrases(high_text, FORWARD_LOOKING_PHRASES)\n",
    "low_forward = count_phrases(low_text, FORWARD_LOOKING_PHRASES)"
   ]
  },
  {
   "cell_type": "code",
   "execution_count": 15,
   "id": "003bd9fc-d6cd-4695-b446-7a5ad7b7ae25",
   "metadata": {},
   "outputs": [
    {
     "name": "stdout",
     "output_type": "stream",
     "text": [
      "🔍 Hedging Phrase Frequency:\n"
     ]
    },
    {
     "data": {
      "text/html": [
       "<div>\n",
       "<style scoped>\n",
       "    .dataframe tbody tr th:only-of-type {\n",
       "        vertical-align: middle;\n",
       "    }\n",
       "\n",
       "    .dataframe tbody tr th {\n",
       "        vertical-align: top;\n",
       "    }\n",
       "\n",
       "    .dataframe thead th {\n",
       "        text-align: right;\n",
       "    }\n",
       "</style>\n",
       "<table border=\"1\" class=\"dataframe\">\n",
       "  <thead>\n",
       "    <tr style=\"text-align: right;\">\n",
       "      <th></th>\n",
       "      <th>may</th>\n",
       "      <th>might</th>\n",
       "      <th>could</th>\n",
       "      <th>suggest</th>\n",
       "      <th>possibly</th>\n",
       "      <th>potentially</th>\n",
       "      <th>assume</th>\n",
       "      <th>anticipated</th>\n",
       "      <th>planned</th>\n",
       "      <th>typically</th>\n",
       "      <th>generally</th>\n",
       "      <th>likely</th>\n",
       "      <th>intend</th>\n",
       "      <th>estimate</th>\n",
       "      <th>believe</th>\n",
       "      <th>aim</th>\n",
       "    </tr>\n",
       "  </thead>\n",
       "  <tbody>\n",
       "    <tr>\n",
       "      <th>High</th>\n",
       "      <td>1713</td>\n",
       "      <td>94</td>\n",
       "      <td>1000</td>\n",
       "      <td>3</td>\n",
       "      <td>17</td>\n",
       "      <td>240</td>\n",
       "      <td>19</td>\n",
       "      <td>281</td>\n",
       "      <td>403</td>\n",
       "      <td>65</td>\n",
       "      <td>208</td>\n",
       "      <td>207</td>\n",
       "      <td>26</td>\n",
       "      <td>128</td>\n",
       "      <td>70</td>\n",
       "      <td>806</td>\n",
       "    </tr>\n",
       "    <tr>\n",
       "      <th>Low</th>\n",
       "      <td>3284</td>\n",
       "      <td>152</td>\n",
       "      <td>1481</td>\n",
       "      <td>4</td>\n",
       "      <td>24</td>\n",
       "      <td>413</td>\n",
       "      <td>40</td>\n",
       "      <td>300</td>\n",
       "      <td>344</td>\n",
       "      <td>115</td>\n",
       "      <td>423</td>\n",
       "      <td>441</td>\n",
       "      <td>35</td>\n",
       "      <td>440</td>\n",
       "      <td>177</td>\n",
       "      <td>1189</td>\n",
       "    </tr>\n",
       "  </tbody>\n",
       "</table>\n",
       "</div>"
      ],
      "text/plain": [
       "       may  might  could  suggest  possibly  potentially  assume  anticipated  \\\n",
       "High  1713     94   1000        3        17          240      19          281   \n",
       "Low   3284    152   1481        4        24          413      40          300   \n",
       "\n",
       "      planned  typically  generally  likely  intend  estimate  believe   aim  \n",
       "High      403         65        208     207      26       128       70   806  \n",
       "Low       344        115        423     441      35       440      177  1189  "
      ]
     },
     "metadata": {},
     "output_type": "display_data"
    },
    {
     "name": "stdout",
     "output_type": "stream",
     "text": [
      "\n",
      "🔮 Forward-Looking Phrase Frequency:\n"
     ]
    },
    {
     "data": {
      "text/html": [
       "<div>\n",
       "<style scoped>\n",
       "    .dataframe tbody tr th:only-of-type {\n",
       "        vertical-align: middle;\n",
       "    }\n",
       "\n",
       "    .dataframe tbody tr th {\n",
       "        vertical-align: top;\n",
       "    }\n",
       "\n",
       "    .dataframe thead th {\n",
       "        text-align: right;\n",
       "    }\n",
       "</style>\n",
       "<table border=\"1\" class=\"dataframe\">\n",
       "  <thead>\n",
       "    <tr style=\"text-align: right;\">\n",
       "      <th></th>\n",
       "      <th>will</th>\n",
       "      <th>target</th>\n",
       "      <th>expect</th>\n",
       "      <th>will reduce</th>\n",
       "      <th>future</th>\n",
       "      <th>forecast</th>\n",
       "      <th>projection</th>\n",
       "    </tr>\n",
       "  </thead>\n",
       "  <tbody>\n",
       "    <tr>\n",
       "      <th>High</th>\n",
       "      <td>2471</td>\n",
       "      <td>2477</td>\n",
       "      <td>64</td>\n",
       "      <td>24</td>\n",
       "      <td>1033</td>\n",
       "      <td>35</td>\n",
       "      <td>12</td>\n",
       "    </tr>\n",
       "    <tr>\n",
       "      <th>Low</th>\n",
       "      <td>4031</td>\n",
       "      <td>3043</td>\n",
       "      <td>259</td>\n",
       "      <td>23</td>\n",
       "      <td>1264</td>\n",
       "      <td>88</td>\n",
       "      <td>15</td>\n",
       "    </tr>\n",
       "  </tbody>\n",
       "</table>\n",
       "</div>"
      ],
      "text/plain": [
       "      will  target  expect  will reduce  future  forecast  projection\n",
       "High  2471    2477      64           24    1033        35          12\n",
       "Low   4031    3043     259           23    1264        88          15"
      ]
     },
     "metadata": {},
     "output_type": "display_data"
    }
   ],
   "source": [
    "from IPython.display import display\n",
    "\n",
    "# Combine results\n",
    "hedging_df = pd.DataFrame([high_hedging, low_hedging], index=[\"High\", \"Low\"]).fillna(0).astype(int)\n",
    "forward_df = pd.DataFrame([high_forward, low_forward], index=[\"High\", \"Low\"]).fillna(0).astype(int)\n",
    "\n",
    "# Display in notebook\n",
    "print(\" Hedging Phrase Frequency:\")\n",
    "display(hedging_df)\n",
    "\n",
    "print(\"\\n Forward-Looking Phrase Frequency:\")\n",
    "display(forward_df)"
   ]
  },
  {
   "cell_type": "code",
   "execution_count": 17,
   "id": "ce95e01e-b9bc-4d9a-8c56-bbfe483c3eed",
   "metadata": {},
   "outputs": [
    {
     "name": "stdout",
     "output_type": "stream",
     "text": [
      "🔎 Top Hedging Phrases (High Emission):\n",
      "[('may', 1713), ('could', 1000), ('aim', 806), ('planned', 403), ('anticipated', 281), ('potentially', 240), ('generally', 208), ('likely', 207), ('estimate', 128), ('might', 94)]\n",
      "\n",
      "🔎 Top Hedging Phrases (Low Emission):\n",
      "[('may', 3284), ('could', 1481), ('aim', 1189), ('likely', 441), ('estimate', 440), ('generally', 423), ('potentially', 413), ('planned', 344), ('anticipated', 300), ('believe', 177)]\n"
     ]
    }
   ],
   "source": [
    "from collections import Counter\n",
    "\n",
    "# Reconstruct counters\n",
    "high_counts_hedging = Counter(high_hedging)\n",
    "low_counts_hedging = Counter(low_hedging)\n",
    "\n",
    "# Show results\n",
    "print(\"🔎 Top Hedging Phrases (High Emission):\")\n",
    "print(high_counts_hedging.most_common(10))\n",
    "\n",
    "print(\"\\n🔎 Top Hedging Phrases (Low Emission):\")\n",
    "print(low_counts_hedging.most_common(10))"
   ]
  },
  {
   "cell_type": "code",
   "execution_count": 19,
   "id": "a3334316-4244-4c1a-b489-c1b273996531",
   "metadata": {},
   "outputs": [
    {
     "name": "stdout",
     "output_type": "stream",
     "text": [
      "🔎 Top Forwand Looking (High Emission):\n",
      "[('target', 2477), ('will', 2471), ('future', 1033), ('expect', 64), ('forecast', 35), ('will reduce', 24), ('projection', 12)]\n",
      "\n",
      "🔎 Top Forward Looking (Low Emission):\n",
      "[('will', 4031), ('target', 3043), ('future', 1264), ('expect', 259), ('forecast', 88), ('will reduce', 23), ('projection', 15)]\n"
     ]
    }
   ],
   "source": [
    "high_counts_forward = Counter(high_forward)\n",
    "low_counts_forward = Counter(low_forward)\n",
    "\n",
    "print(\"🔎 Top Forwand Looking (High Emission):\")\n",
    "print(high_counts_forward.most_common(10))\n",
    "\n",
    "print(\"\\n🔎 Top Forward Looking (Low Emission):\")\n",
    "print(low_counts_forward.most_common(10))"
   ]
  },
  {
   "cell_type": "code",
   "execution_count": null,
   "id": "81dca95d-8456-4bd2-a0ee-0e3840ff7f21",
   "metadata": {},
   "outputs": [],
   "source": []
  }
 ],
 "metadata": {
  "kernelspec": {
   "display_name": "Python (esg-py311)",
   "language": "python",
   "name": "esg-py311"
  },
  "language_info": {
   "codemirror_mode": {
    "name": "ipython",
    "version": 3
   },
   "file_extension": ".py",
   "mimetype": "text/x-python",
   "name": "python",
   "nbconvert_exporter": "python",
   "pygments_lexer": "ipython3",
   "version": "3.11.13"
  }
 },
 "nbformat": 4,
 "nbformat_minor": 5
}
