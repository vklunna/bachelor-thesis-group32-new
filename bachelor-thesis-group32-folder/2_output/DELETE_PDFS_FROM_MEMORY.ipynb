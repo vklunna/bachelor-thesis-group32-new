{
 "cells": [
  {
   "cell_type": "code",
   "execution_count": null,
   "id": "c869628e-802a-4e19-8305-2ec0eb779149",
   "metadata": {},
   "outputs": [],
   "source": [
    "import sys\n",
    "from pathlib import Path\n",
    "sys.path.append(\"../1_code\")"
   ]
  },
  {
   "cell_type": "code",
   "execution_count": null,
   "id": "22abfe5a-7676-420c-a7d8-2db04d183571",
   "metadata": {},
   "outputs": [],
   "source": [
    "# Clear loaded PDF documents from memory\n",
    "from pdf_loader import clear_memory\n",
    "\n",
    "# Call the function\n",
    "clear_memory()"
   ]
  },
  {
   "cell_type": "code",
   "execution_count": null,
   "id": "1fbb1cea-f079-4f6c-9fc9-197955dd9cf6",
   "metadata": {},
   "outputs": [],
   "source": [
    "from shared_memory import pdf_docs\n",
    "print(len(pdf_docs))  # should output 0"
   ]
  }
 ],
 "metadata": {
  "kernelspec": {
   "display_name": "Python (esg-py311)",
   "language": "python",
   "name": "esg-py311"
  },
  "language_info": {
   "codemirror_mode": {
    "name": "ipython",
    "version": 3
   },
   "file_extension": ".py",
   "mimetype": "text/x-python",
   "name": "python",
   "nbconvert_exporter": "python",
   "pygments_lexer": "ipython3",
   "version": "3.11.13"
  }
 },
 "nbformat": 4,
 "nbformat_minor": 5
}
