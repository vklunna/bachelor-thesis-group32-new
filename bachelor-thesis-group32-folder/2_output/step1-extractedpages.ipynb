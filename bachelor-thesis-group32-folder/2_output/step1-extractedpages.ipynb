{
 "cells": [
  {
   "cell_type": "code",
   "execution_count": 1,
   "id": "710d0622-17a5-493a-b7b0-fb1c91aab3bc",
   "metadata": {},
   "outputs": [
    {
     "name": "stderr",
     "output_type": "stream",
     "text": [
      "/Users/valeriiaklynna/anaconda3/envs/esg-py311/lib/python3.11/site-packages/pypdf/_crypt_providers/_cryptography.py:32: CryptographyDeprecationWarning: ARC4 has been moved to cryptography.hazmat.decrepit.ciphers.algorithms.ARC4 and will be removed from cryptography.hazmat.primitives.ciphers.algorithms in 48.0.0.\n",
      "  from cryptography.hazmat.primitives.ciphers.algorithms import AES, ARC4\n"
     ]
    },
    {
     "name": "stdout",
     "output_type": "stream",
     "text": [
      "Top candidate page: 120\n",
      " PDF has 220 pages total.\n",
      " Attempting to crop pages: [120, 121]\n",
      "\n",
      " Page 121 (index 120) preview:\n",
      "Annual report 2024 - CFE\n",
      "121\n",
      "5.2.\t Annex 2: List of references\n",
      "ESRS 2 BP-1 5 a , ESRS 2 BP-1 5 b i\n",
      "74\n",
      "------------------------------------------------------------\n",
      "\n",
      " Page 122 (index 121) preview:\n",
      "Annual report 2024 - CFE\n",
      "122\n",
      "5.3.\t Annex 3: List of omitted information\n",
      "Reference\n",
      " \n",
      "------------------------------------------------------------\n",
      "\n",
      " Cropped PDF saved as: /Users/valeriiaklynna/Documents/GitHub/bachelor-thesis-group32-new/bachelor-thesis-group32-folder/0_data/cropped_pdf/01UK_total_HR_c.pdf\n",
      "📄 Final page range of : [120, 121]\n"
     ]
    }
   ],
   "source": [
    "import sys\n",
    "from pathlib import Path\n",
    "sys.path.append(\"../1_code\")  # since you're in 2_output\n",
    "\n",
    "# Import your libraries first\n",
    "from libraries.imports import *  \n",
    "\n",
    "# Now use Path\n",
    "data_folder = Path(\"../0_data/pdfs\")\n",
    "pdf_path = data_folder / \"01UK_total_HR.pdf\" #put you pdf here\n",
    "\n",
    "from step1_extractpages import extract_text_and_score_pages, get_expanded_page_range, crop_pdf_to_range_and_preview\n",
    "\n",
    "# Run the functions\n",
    "df_result = extract_text_and_score_pages(pdf_path)\n",
    "top_page_number = df_result.iloc[0][\"page_num\"]\n",
    "print(\"Top candidate page:\", top_page_number)\n",
    "\n",
    "result = get_expanded_page_range(df_result, pdf_path)\n",
    "cropped_pdf_path = crop_pdf_to_range_and_preview(pdf_path, result[\"final_page_range\"])\n",
    "\n",
    "# Show results\n",
    "print(f\"📄 Final page range of :\", result[\"final_page_range\"])\n"
   ]
  },
  {
   "cell_type": "code",
   "execution_count": null,
   "id": "126ffe0a-4f56-42d6-9269-868c5cac79c2",
   "metadata": {},
   "outputs": [],
   "source": []
  }
 ],
 "metadata": {
  "kernelspec": {
   "display_name": "Python (esg-py311)",
   "language": "python",
   "name": "esg-py311"
  },
  "language_info": {
   "codemirror_mode": {
    "name": "ipython",
    "version": 3
   },
   "file_extension": ".py",
   "mimetype": "text/x-python",
   "name": "python",
   "nbconvert_exporter": "python",
   "pygments_lexer": "ipython3",
   "version": "3.11.13"
  }
 },
 "nbformat": 4,
 "nbformat_minor": 5
}
